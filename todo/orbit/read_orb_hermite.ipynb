{
 "cells": [
  {
   "cell_type": "markdown",
   "id": "ce0f962c",
   "metadata": {},
   "source": [
    "# Test orbit file (LED) reading and Hermite interpolation"
   ]
  },
  {
   "cell_type": "code",
   "execution_count": 1,
   "id": "d3eacd57",
   "metadata": {},
   "outputs": [],
   "source": [
    "import numpy as np\n",
    "import pandas as pd"
   ]
  },
  {
   "cell_type": "code",
   "execution_count": 2,
   "id": "6e6eb96f",
   "metadata": {},
   "outputs": [],
   "source": [
    "import matplotlib.pyplot as plt\n",
    "import matplotlib\n",
    "from mpl_toolkits.mplot3d import Axes3D\n",
    "from matplotlib.lines import Line2D\n",
    "%matplotlib inline"
   ]
  },
  {
   "cell_type": "code",
   "execution_count": 3,
   "id": "81e8772e",
   "metadata": {},
   "outputs": [
    {
     "name": "stdout",
     "output_type": "stream",
     "text": [
      "{'nd': '281', 'iy': '2015', 'id': '140', 'isec': '48064.000000', 'idsec': '10.000'}\n"
     ]
    },
    {
     "data": {
      "text/html": [
       "<div>\n",
       "<style scoped>\n",
       "    .dataframe tbody tr th:only-of-type {\n",
       "        vertical-align: middle;\n",
       "    }\n",
       "\n",
       "    .dataframe tbody tr th {\n",
       "        vertical-align: top;\n",
       "    }\n",
       "\n",
       "    .dataframe thead th {\n",
       "        text-align: right;\n",
       "    }\n",
       "</style>\n",
       "<table border=\"1\" class=\"dataframe\">\n",
       "  <thead>\n",
       "    <tr style=\"text-align: right;\">\n",
       "      <th></th>\n",
       "      <th>iy</th>\n",
       "      <th>id</th>\n",
       "      <th>isec</th>\n",
       "      <th>px</th>\n",
       "      <th>py</th>\n",
       "      <th>pz</th>\n",
       "      <th>vx</th>\n",
       "      <th>vy</th>\n",
       "      <th>vz</th>\n",
       "    </tr>\n",
       "  </thead>\n",
       "  <tbody>\n",
       "    <tr>\n",
       "      <th>0</th>\n",
       "      <td>2015</td>\n",
       "      <td>140</td>\n",
       "      <td>48064.0</td>\n",
       "      <td>1.941649e+06</td>\n",
       "      <td>2.690324e+06</td>\n",
       "      <td>6.239974e+06</td>\n",
       "      <td>-1656.759849</td>\n",
       "      <td>-6599.833496</td>\n",
       "      <td>3353.575432</td>\n",
       "    </tr>\n",
       "    <tr>\n",
       "      <th>1</th>\n",
       "      <td>2015</td>\n",
       "      <td>140</td>\n",
       "      <td>48074.0</td>\n",
       "      <td>1.924925e+06</td>\n",
       "      <td>2.624189e+06</td>\n",
       "      <td>6.273157e+06</td>\n",
       "      <td>-1688.050184</td>\n",
       "      <td>-6627.146750</td>\n",
       "      <td>3283.006276</td>\n",
       "    </tr>\n",
       "    <tr>\n",
       "      <th>2</th>\n",
       "      <td>2015</td>\n",
       "      <td>140</td>\n",
       "      <td>48084.0</td>\n",
       "      <td>1.907889e+06</td>\n",
       "      <td>2.557784e+06</td>\n",
       "      <td>6.305632e+06</td>\n",
       "      <td>-1719.190204</td>\n",
       "      <td>-6653.671699</td>\n",
       "      <td>3212.068735</td>\n",
       "    </tr>\n",
       "    <tr>\n",
       "      <th>3</th>\n",
       "      <td>2015</td>\n",
       "      <td>140</td>\n",
       "      <td>48094.0</td>\n",
       "      <td>1.890542e+06</td>\n",
       "      <td>2.491118e+06</td>\n",
       "      <td>6.337397e+06</td>\n",
       "      <td>-1750.175288</td>\n",
       "      <td>-6679.405648</td>\n",
       "      <td>3140.770806</td>\n",
       "    </tr>\n",
       "    <tr>\n",
       "      <th>4</th>\n",
       "      <td>2015</td>\n",
       "      <td>140</td>\n",
       "      <td>48104.0</td>\n",
       "      <td>1.872886e+06</td>\n",
       "      <td>2.424198e+06</td>\n",
       "      <td>6.368447e+06</td>\n",
       "      <td>-1781.000831</td>\n",
       "      <td>-6704.345996</td>\n",
       "      <td>3069.120523</td>\n",
       "    </tr>\n",
       "    <tr>\n",
       "      <th>...</th>\n",
       "      <td>...</td>\n",
       "      <td>...</td>\n",
       "      <td>...</td>\n",
       "      <td>...</td>\n",
       "      <td>...</td>\n",
       "      <td>...</td>\n",
       "      <td>...</td>\n",
       "      <td>...</td>\n",
       "      <td>...</td>\n",
       "    </tr>\n",
       "    <tr>\n",
       "      <th>276</th>\n",
       "      <td>2015</td>\n",
       "      <td>140</td>\n",
       "      <td>50824.0</td>\n",
       "      <td>-3.004528e+06</td>\n",
       "      <td>-3.385614e+06</td>\n",
       "      <td>-5.445894e+06</td>\n",
       "      <td>2234.108457</td>\n",
       "      <td>5529.166846</td>\n",
       "      <td>-4673.002701</td>\n",
       "    </tr>\n",
       "    <tr>\n",
       "      <th>277</th>\n",
       "      <td>2015</td>\n",
       "      <td>140</td>\n",
       "      <td>50834.0</td>\n",
       "      <td>-2.981980e+06</td>\n",
       "      <td>-3.330151e+06</td>\n",
       "      <td>-5.492317e+06</td>\n",
       "      <td>2275.548048</td>\n",
       "      <td>5563.291422</td>\n",
       "      <td>-4611.613522</td>\n",
       "    </tr>\n",
       "    <tr>\n",
       "      <th>278</th>\n",
       "      <td>2015</td>\n",
       "      <td>140</td>\n",
       "      <td>50844.0</td>\n",
       "      <td>-2.959018e+06</td>\n",
       "      <td>-3.274350e+06</td>\n",
       "      <td>-5.538124e+06</td>\n",
       "      <td>2316.780830</td>\n",
       "      <td>5596.733029</td>\n",
       "      <td>-4549.711427</td>\n",
       "    </tr>\n",
       "    <tr>\n",
       "      <th>279</th>\n",
       "      <td>2015</td>\n",
       "      <td>140</td>\n",
       "      <td>50854.0</td>\n",
       "      <td>-2.935645e+06</td>\n",
       "      <td>-3.218219e+06</td>\n",
       "      <td>-5.583310e+06</td>\n",
       "      <td>2357.801267</td>\n",
       "      <td>5629.488363</td>\n",
       "      <td>-4487.303403</td>\n",
       "    </tr>\n",
       "    <tr>\n",
       "      <th>280</th>\n",
       "      <td>2015</td>\n",
       "      <td>140</td>\n",
       "      <td>50864.0</td>\n",
       "      <td>-2.911862e+06</td>\n",
       "      <td>-3.161763e+06</td>\n",
       "      <td>-5.627869e+06</td>\n",
       "      <td>2398.603845</td>\n",
       "      <td>5661.554204</td>\n",
       "      <td>-4424.396491</td>\n",
       "    </tr>\n",
       "  </tbody>\n",
       "</table>\n",
       "<p>281 rows × 9 columns</p>\n",
       "</div>"
      ],
      "text/plain": [
       "       iy   id     isec            px            py            pz   \n",
       "0    2015  140  48064.0  1.941649e+06  2.690324e+06  6.239974e+06  \\\n",
       "1    2015  140  48074.0  1.924925e+06  2.624189e+06  6.273157e+06   \n",
       "2    2015  140  48084.0  1.907889e+06  2.557784e+06  6.305632e+06   \n",
       "3    2015  140  48094.0  1.890542e+06  2.491118e+06  6.337397e+06   \n",
       "4    2015  140  48104.0  1.872886e+06  2.424198e+06  6.368447e+06   \n",
       "..    ...  ...      ...           ...           ...           ...   \n",
       "276  2015  140  50824.0 -3.004528e+06 -3.385614e+06 -5.445894e+06   \n",
       "277  2015  140  50834.0 -2.981980e+06 -3.330151e+06 -5.492317e+06   \n",
       "278  2015  140  50844.0 -2.959018e+06 -3.274350e+06 -5.538124e+06   \n",
       "279  2015  140  50854.0 -2.935645e+06 -3.218219e+06 -5.583310e+06   \n",
       "280  2015  140  50864.0 -2.911862e+06 -3.161763e+06 -5.627869e+06   \n",
       "\n",
       "              vx           vy           vz  \n",
       "0   -1656.759849 -6599.833496  3353.575432  \n",
       "1   -1688.050184 -6627.146750  3283.006276  \n",
       "2   -1719.190204 -6653.671699  3212.068735  \n",
       "3   -1750.175288 -6679.405648  3140.770806  \n",
       "4   -1781.000831 -6704.345996  3069.120523  \n",
       "..           ...          ...          ...  \n",
       "276  2234.108457  5529.166846 -4673.002701  \n",
       "277  2275.548048  5563.291422 -4611.613522  \n",
       "278  2316.780830  5596.733029 -4549.711427  \n",
       "279  2357.801267  5629.488363 -4487.303403  \n",
       "280  2398.603845  5661.554204 -4424.396491  \n",
       "\n",
       "[281 rows x 9 columns]"
      ]
     },
     "execution_count": 3,
     "metadata": {},
     "output_type": "execute_result"
    }
   ],
   "source": [
    "import pandas as pd\n",
    "\n",
    "def read_orb(ldrfile):\n",
    "    \"\"\"\n",
    "    Read an LED file and extract the metadata and data into a dictionary and a DataFrame.\n",
    "\n",
    "    Parameters:\n",
    "    ldrfile (str): Path to the LED file.\n",
    "\n",
    "    Returns:\n",
    "    tuple: A tuple containing the metadata dictionary and the data DataFrame.\n",
    "\n",
    "    Metadata Dictionary:\n",
    "    - 'nd' (str): Number of given points in the list.\n",
    "    - 'iy' (str): Year.\n",
    "    - 'id' (str): Julian day.\n",
    "    - 'isec' (str): Seconds of the day.\n",
    "    - 'idsec' (str): Delta seconds.\n",
    "\n",
    "    Data DataFrame:\n",
    "    - 'iy' (int): Year.\n",
    "    - 'id' (int): Julian day.\n",
    "    - 'isec' (float): Seconds of the day.\n",
    "    - 'px' (float): X-coordinate.\n",
    "    - 'py' (float): Y-coordinate.\n",
    "    - 'pz' (float): Z-coordinate.\n",
    "    - 'vx' (float): X-velocity.\n",
    "    - 'vy' (float): Y-velocity.\n",
    "    - 'vz' (float): Z-velocity.\n",
    "    \"\"\"\n",
    "\n",
    "    with open(ldrfile, 'r') as file:\n",
    "        first_line = file.readline()\n",
    "    columns = ['nd', 'iy', 'id', 'isec', 'idsec']\n",
    "    meta = dict(zip(columns, first_line.split()))\n",
    "\n",
    "    # Define the column headers based on the structure in the code\n",
    "    headers = ['iy', 'id', 'isec', 'px', 'py', 'pz', 'vx', 'vy', 'vz']\n",
    "    # Read the file with pandas, specifying space as the delimiter and skipping the first row\n",
    "    df = pd.read_csv(ldrfile, delimiter=' ', header=None, skiprows=1, names=headers, index_col=False)\n",
    "    df.attrs = meta\n",
    "    \n",
    "    return df\n",
    "\n",
    "orb = read_orb('S1_20150521_ALL_F1.LED')\n",
    "\n",
    "print(orb.attrs)\n",
    "orb"
   ]
  },
  {
   "cell_type": "code",
   "execution_count": 4,
   "id": "69be2417",
   "metadata": {},
   "outputs": [
    {
     "data": {
      "text/plain": [
       "array([48064., 48074., 48084., 48094., 48104., 48114., 48124., 48134.,\n",
       "       48144., 48154.])"
      ]
     },
     "execution_count": 4,
     "metadata": {},
     "output_type": "execute_result"
    }
   ],
   "source": [
    "orb.isec[:10].values"
   ]
  },
  {
   "cell_type": "code",
   "execution_count": 5,
   "id": "000abd75",
   "metadata": {},
   "outputs": [
    {
     "data": {
      "text/plain": [
       "array([1941649.304103, 1924925.130555, 1907888.801379, 1890541.842833,\n",
       "       1872885.827312, 1854922.373199, 1836653.144729, 1818079.851828,\n",
       "       1799204.249944, 1780028.139872])"
      ]
     },
     "execution_count": 5,
     "metadata": {},
     "output_type": "execute_result"
    }
   ],
   "source": [
    "orb.px[:10].values"
   ]
  },
  {
   "cell_type": "code",
   "execution_count": 6,
   "id": "0cac7193",
   "metadata": {},
   "outputs": [
    {
     "data": {
      "text/plain": [
       "array([-1656.759849, -1688.050184, -1719.190204, -1750.175288,\n",
       "       -1781.000831, -1811.662241, -1842.15494 , -1872.474369,\n",
       "       -1902.615983, -1932.575255])"
      ]
     },
     "execution_count": 6,
     "metadata": {},
     "output_type": "execute_result"
    }
   ],
   "source": [
    "orb.vx[:10].values"
   ]
  },
  {
   "cell_type": "code",
   "execution_count": 7,
   "id": "4f37cb05",
   "metadata": {},
   "outputs": [
    {
     "name": "stdout",
     "output_type": "stream",
     "text": [
      "Interpolated value at x=48070.0:  1931652.3436279297\n",
      "Interpolated value at x=48078.0:  1918147.973815918\n",
      "Interpolated value at x=48086.0:  1904444.2108154297\n",
      "Interpolated value at x=48092.0:  1894036.0103759766\n",
      "Interpolated value at x=48102.0:  1876441.6782836914\n",
      "Interpolated value at x=48118.0:  1847651.2810668945\n",
      "Interpolated value at x=48128.0:  1829260.2188110352\n",
      "Interpolated value at x=48138.0:  1810565.7890014648\n",
      "Interpolated value at x=48150.0:  1787734.5283203125\n",
      "Interpolated value at x=48160.0:  1768378.997619629\n"
     ]
    },
    {
     "name": "stderr",
     "output_type": "stream",
     "text": [
      "/opt/homebrew/lib/python3.10/site-packages/numpy/polynomial/hermite.py:1404: RankWarning: The fit may be poorly conditioned\n",
      "  return pu._fit(hermvander, x, y, deg, rcond, full, w)\n"
     ]
    }
   ],
   "source": [
    "import numpy as np\n",
    "from numpy.polynomial.hermite import hermfit, hermval\n",
    "\n",
    "# Define the data points\n",
    "x = orb.isec[:10].values\n",
    "y = orb.px[:10].values\n",
    "z = orb.vx[:10].values\n",
    "\n",
    "# Fit the Hermite polynomial\n",
    "coeff = hermfit(x, y, 5)\n",
    "\n",
    "for test_x in [48070.000000, 48078.000000, 48086.000000, 48092.000000, 48102.000000,\n",
    "        48118.000000, 48128.000000, 48138.000000, 48150.000000, 48160.000000]:\n",
    "    # Perform the interpolation\n",
    "    y_interpolated = hermval(test_x, coeff)\n",
    "    # Output the interpolated value\n",
    "    print(f'Interpolated value at x={test_x}: ', y_interpolated)"
   ]
  },
  {
   "cell_type": "code",
   "execution_count": 8,
   "id": "a89f97a5",
   "metadata": {},
   "outputs": [
    {
     "name": "stdout",
     "output_type": "stream",
     "text": [
      "1.3 µs ± 5.47 ns per loop (mean ± std. dev. of 7 runs, 1,000,000 loops each)\n"
     ]
    }
   ],
   "source": [
    "%timeit hermval(test_x, coeff)"
   ]
  },
  {
   "cell_type": "raw",
   "id": "afd6bc7a",
   "metadata": {},
   "source": [
    "GMTSAR results:\n",
    "\n",
    "Interpolated value at x=48070.000000: 1931652.342476\n",
    "Interpolated value at x=48078.000000: 1918147.973109\n",
    "Interpolated value at x=48086.000000: 1904444.210371\n",
    "Interpolated value at x=48092.000000: 1894036.010073\n",
    "Interpolated value at x=48102.000000: 1876441.677945\n",
    "Interpolated value at x=48118.000000: 1847651.280003\n",
    "Interpolated value at x=48128.000000: 1829260.218019\n",
    "Interpolated value at x=48138.000000: 1810565.788336\n",
    "hermite: interpolation not in center interval\n",
    "Interpolated value at x=48150.000000: 1787734.527925\n",
    "interpolation point outside of data constraints, 48160.000000 48064.000000 48154.000000"
   ]
  },
  {
   "cell_type": "markdown",
   "id": "bf1a0b00",
   "metadata": {},
   "source": [
    "## extend_orbit"
   ]
  },
  {
   "cell_type": "code",
   "execution_count": 9,
   "id": "cca55110",
   "metadata": {},
   "outputs": [],
   "source": [
    "# extend the LED orbit records\n",
    "!extend_orbit S1_20150521_ALL_F1.LED S1_20150521_ALL_F1.extend.LED 0.25"
   ]
  },
  {
   "cell_type": "code",
   "execution_count": 10,
   "id": "8ddb8958",
   "metadata": {},
   "outputs": [],
   "source": [
    "orb = read_orb('S1_20150521_ALL_F1.LED')\n",
    "orb_extend = read_orb('S1_20150521_ALL_F1.extend.LED')"
   ]
  },
  {
   "cell_type": "code",
   "execution_count": 11,
   "id": "cd25e367",
   "metadata": {},
   "outputs": [
    {
     "data": {
      "text/html": [
       "<div>\n",
       "<style scoped>\n",
       "    .dataframe tbody tr th:only-of-type {\n",
       "        vertical-align: middle;\n",
       "    }\n",
       "\n",
       "    .dataframe tbody tr th {\n",
       "        vertical-align: top;\n",
       "    }\n",
       "\n",
       "    .dataframe thead th {\n",
       "        text-align: right;\n",
       "    }\n",
       "</style>\n",
       "<table border=\"1\" class=\"dataframe\">\n",
       "  <thead>\n",
       "    <tr style=\"text-align: right;\">\n",
       "      <th></th>\n",
       "      <th>iy</th>\n",
       "      <th>id</th>\n",
       "      <th>isec</th>\n",
       "      <th>px</th>\n",
       "      <th>py</th>\n",
       "      <th>pz</th>\n",
       "      <th>vx</th>\n",
       "      <th>vy</th>\n",
       "      <th>vz</th>\n",
       "    </tr>\n",
       "  </thead>\n",
       "  <tbody>\n",
       "    <tr>\n",
       "      <th>0</th>\n",
       "      <td>2015</td>\n",
       "      <td>140</td>\n",
       "      <td>47364.0</td>\n",
       "      <td>2.155312e+06</td>\n",
       "      <td>8.995849e+06</td>\n",
       "      <td>-7.113904e+05</td>\n",
       "      <td>1526.195265</td>\n",
       "      <td>-8865.539915</td>\n",
       "      <td>15004.669749</td>\n",
       "    </tr>\n",
       "    <tr>\n",
       "      <th>1</th>\n",
       "      <td>2015</td>\n",
       "      <td>140</td>\n",
       "      <td>47374.0</td>\n",
       "      <td>2.170276e+06</td>\n",
       "      <td>8.907191e+06</td>\n",
       "      <td>-5.621793e+05</td>\n",
       "      <td>1466.655397</td>\n",
       "      <td>-8866.011652</td>\n",
       "      <td>14837.659072</td>\n",
       "    </tr>\n",
       "    <tr>\n",
       "      <th>2</th>\n",
       "      <td>2015</td>\n",
       "      <td>140</td>\n",
       "      <td>47384.0</td>\n",
       "      <td>2.184646e+06</td>\n",
       "      <td>8.818529e+06</td>\n",
       "      <td>-4.146351e+05</td>\n",
       "      <td>1407.483011</td>\n",
       "      <td>-8866.210255</td>\n",
       "      <td>14671.277379</td>\n",
       "    </tr>\n",
       "    <tr>\n",
       "      <th>3</th>\n",
       "      <td>2015</td>\n",
       "      <td>140</td>\n",
       "      <td>47394.0</td>\n",
       "      <td>2.198427e+06</td>\n",
       "      <td>8.729867e+06</td>\n",
       "      <td>-2.687517e+05</td>\n",
       "      <td>1348.678105</td>\n",
       "      <td>-8866.135724</td>\n",
       "      <td>14505.524670</td>\n",
       "    </tr>\n",
       "    <tr>\n",
       "      <th>4</th>\n",
       "      <td>2015</td>\n",
       "      <td>140</td>\n",
       "      <td>47404.0</td>\n",
       "      <td>2.211621e+06</td>\n",
       "      <td>8.641208e+06</td>\n",
       "      <td>-1.245226e+05</td>\n",
       "      <td>1290.240680</td>\n",
       "      <td>-8865.788058</td>\n",
       "      <td>14340.400945</td>\n",
       "    </tr>\n",
       "    <tr>\n",
       "      <th>...</th>\n",
       "      <td>...</td>\n",
       "      <td>...</td>\n",
       "      <td>...</td>\n",
       "      <td>...</td>\n",
       "      <td>...</td>\n",
       "      <td>...</td>\n",
       "      <td>...</td>\n",
       "      <td>...</td>\n",
       "      <td>...</td>\n",
       "    </tr>\n",
       "    <tr>\n",
       "      <th>416</th>\n",
       "      <td>2015</td>\n",
       "      <td>140</td>\n",
       "      <td>51524.0</td>\n",
       "      <td>9.190270e+05</td>\n",
       "      <td>4.360970e+06</td>\n",
       "      <td>-7.606135e+06</td>\n",
       "      <td>8478.568519</td>\n",
       "      <td>14515.146149</td>\n",
       "      <td>-177.875603</td>\n",
       "    </tr>\n",
       "    <tr>\n",
       "      <th>417</th>\n",
       "      <td>2015</td>\n",
       "      <td>140</td>\n",
       "      <td>51534.0</td>\n",
       "      <td>1.004279e+06</td>\n",
       "      <td>4.506687e+06</td>\n",
       "      <td>-7.607441e+06</td>\n",
       "      <td>8571.900739</td>\n",
       "      <td>14628.298165</td>\n",
       "      <td>-83.228949</td>\n",
       "    </tr>\n",
       "    <tr>\n",
       "      <th>418</th>\n",
       "      <td>2015</td>\n",
       "      <td>140</td>\n",
       "      <td>51544.0</td>\n",
       "      <td>1.090466e+06</td>\n",
       "      <td>4.653536e+06</td>\n",
       "      <td>-7.607797e+06</td>\n",
       "      <td>8665.600440</td>\n",
       "      <td>14741.723314</td>\n",
       "      <td>12.046690</td>\n",
       "    </tr>\n",
       "    <tr>\n",
       "      <th>419</th>\n",
       "      <td>2015</td>\n",
       "      <td>140</td>\n",
       "      <td>51554.0</td>\n",
       "      <td>1.177592e+06</td>\n",
       "      <td>4.801522e+06</td>\n",
       "      <td>-7.607198e+06</td>\n",
       "      <td>8759.667622</td>\n",
       "      <td>14855.421598</td>\n",
       "      <td>107.951312</td>\n",
       "    </tr>\n",
       "    <tr>\n",
       "      <th>420</th>\n",
       "      <td>2015</td>\n",
       "      <td>140</td>\n",
       "      <td>51564.0</td>\n",
       "      <td>1.265661e+06</td>\n",
       "      <td>4.950646e+06</td>\n",
       "      <td>-7.605636e+06</td>\n",
       "      <td>8854.102285</td>\n",
       "      <td>14969.393016</td>\n",
       "      <td>204.484918</td>\n",
       "    </tr>\n",
       "  </tbody>\n",
       "</table>\n",
       "<p>421 rows × 9 columns</p>\n",
       "</div>"
      ],
      "text/plain": [
       "       iy   id     isec            px            py            pz   \n",
       "0    2015  140  47364.0  2.155312e+06  8.995849e+06 -7.113904e+05  \\\n",
       "1    2015  140  47374.0  2.170276e+06  8.907191e+06 -5.621793e+05   \n",
       "2    2015  140  47384.0  2.184646e+06  8.818529e+06 -4.146351e+05   \n",
       "3    2015  140  47394.0  2.198427e+06  8.729867e+06 -2.687517e+05   \n",
       "4    2015  140  47404.0  2.211621e+06  8.641208e+06 -1.245226e+05   \n",
       "..    ...  ...      ...           ...           ...           ...   \n",
       "416  2015  140  51524.0  9.190270e+05  4.360970e+06 -7.606135e+06   \n",
       "417  2015  140  51534.0  1.004279e+06  4.506687e+06 -7.607441e+06   \n",
       "418  2015  140  51544.0  1.090466e+06  4.653536e+06 -7.607797e+06   \n",
       "419  2015  140  51554.0  1.177592e+06  4.801522e+06 -7.607198e+06   \n",
       "420  2015  140  51564.0  1.265661e+06  4.950646e+06 -7.605636e+06   \n",
       "\n",
       "              vx            vy            vz  \n",
       "0    1526.195265  -8865.539915  15004.669749  \n",
       "1    1466.655397  -8866.011652  14837.659072  \n",
       "2    1407.483011  -8866.210255  14671.277379  \n",
       "3    1348.678105  -8866.135724  14505.524670  \n",
       "4    1290.240680  -8865.788058  14340.400945  \n",
       "..           ...           ...           ...  \n",
       "416  8478.568519  14515.146149   -177.875603  \n",
       "417  8571.900739  14628.298165    -83.228949  \n",
       "418  8665.600440  14741.723314     12.046690  \n",
       "419  8759.667622  14855.421598    107.951312  \n",
       "420  8854.102285  14969.393016    204.484918  \n",
       "\n",
       "[421 rows x 9 columns]"
      ]
     },
     "execution_count": 11,
     "metadata": {},
     "output_type": "execute_result"
    }
   ],
   "source": [
    "orb_extend"
   ]
  },
  {
   "cell_type": "code",
   "execution_count": 12,
   "id": "9e49a6a3",
   "metadata": {},
   "outputs": [
    {
     "data": {
      "text/plain": [
       "[<matplotlib.lines.Line2D at 0x128276f80>]"
      ]
     },
     "execution_count": 12,
     "metadata": {},
     "output_type": "execute_result"
    },
    {
     "data": {
      "image/png": "[encoded data removed]",
      "text/plain": [
       "<Figure size 1200x400 with 1 Axes>"
      ]
     },
     "metadata": {},
     "output_type": "display_data"
    }
   ],
   "source": [
    "plt.figure(figsize=(12,4))\n",
    "plt.plot(orb_extend.isec, orb_extend.px, c='red', lw=1)\n",
    "plt.plot(orb.isec, orb.px, c='green', lw=1)"
   ]
  },
  {
   "cell_type": "code",
   "execution_count": 13,
   "id": "4921bbb4",
   "metadata": {},
   "outputs": [],
   "source": [
    "import numpy as np\n",
    "from numpy.polynomial.hermite import hermfit, hermval\n",
    "\n",
    "# Define the data points\n",
    "x = orb.isec.values\n",
    "y = orb.px.values\n",
    "z = orb.vx.values\n",
    "\n",
    "# Fit the Hermite polynomial\n",
    "coeff = hermfit(x, y, 5)\n",
    "vals_orig = hermval(orb_extend.isec, coeff)"
   ]
  },
  {
   "cell_type": "code",
   "execution_count": 14,
   "id": "f3839edc",
   "metadata": {},
   "outputs": [],
   "source": [
    "import numpy as np\n",
    "from numpy.polynomial.hermite import hermfit, hermval\n",
    "\n",
    "# Define the data points\n",
    "x = orb.isec.values[len(orb) // 4:-len(orb) // 4]\n",
    "y = orb.px.values[len(orb) // 4:-len(orb) // 4]\n",
    "z = orb.vx.values[len(orb) // 4:-len(orb) // 4]\n",
    "\n",
    "# Fit the Hermite polynomial\n",
    "coeff = hermfit(x, y, 5)\n",
    "\n",
    "vals_half = hermval(orb.isec, coeff)"
   ]
  },
  {
   "cell_type": "code",
   "execution_count": 15,
   "id": "ba67a865",
   "metadata": {},
   "outputs": [
    {
     "data": {
      "image/png": "[encoded data removed]",
      "text/plain": [
       "<Figure size 1200x400 with 1 Axes>"
      ]
     },
     "metadata": {},
     "output_type": "display_data"
    }
   ],
   "source": [
    "plt.figure(figsize=(12,4))\n",
    "plt.plot(orb_extend.isec, orb_extend.px, c='red', lw=1, label='extend_orbit')\n",
    "plt.plot(orb.isec, orb.px, c='green', lw=1, label='Orig')\n",
    "plt.plot(orb_extend.isec, vals_orig, c='black', lw=0.5, label='Hermite Full Orbit')\n",
    "plt.plot(orb.isec, vals_half, c='blue', lw=0.5, label='Hermite Half orbit')\n",
    "plt.legend()\n",
    "plt.show()"
   ]
  },
  {
   "cell_type": "code",
   "execution_count": 16,
   "id": "050830e5",
   "metadata": {},
   "outputs": [
    {
     "data": {
      "text/plain": [
       "0      1.000975\n",
       "1      1.000893\n",
       "2      1.000817\n",
       "3      1.000744\n",
       "4      1.000676\n",
       "         ...   \n",
       "276    1.006075\n",
       "277    1.006462\n",
       "278    1.006872\n",
       "279    1.007306\n",
       "280    1.007764\n",
       "Name: isec, Length: 281, dtype: float64"
      ]
     },
     "execution_count": 16,
     "metadata": {},
     "output_type": "execute_result"
    }
   ],
   "source": [
    "# check the extrapolation accuracy\n",
    "vals_half/orb.px.values"
   ]
  }
 ],
 "metadata": {
  "kernelspec": {
   "display_name": "Python 3 (ipykernel)",
   "language": "python",
   "name": "python3"
  },
  "language_info": {
   "codemirror_mode": {
    "name": "ipython",
    "version": 3
   },
   "file_extension": ".py",
   "mimetype": "text/x-python",
   "name": "python",
   "nbconvert_exporter": "python",
   "pygments_lexer": "ipython3",
   "version": "3.10.10"
  }
 },
 "nbformat": 4,
 "nbformat_minor": 5
}
